{
 "cells": [
  {
   "cell_type": "code",
   "execution_count": 1,
   "id": "e0beaafd",
   "metadata": {},
   "outputs": [],
   "source": [
    "import pandas as pd"
   ]
  },
  {
   "cell_type": "code",
   "execution_count": null,
   "id": "dfd1fd0f",
   "metadata": {},
   "outputs": [],
   "source": [
    "#Reference the file where the CSV is located\n",
    "\n",
    "\n",
    "\n",
    "#Import the data into Pandas Data Frame\n",
    "\n"
   ]
  }
 ],
 "metadata": {
  "kernelspec": {
   "display_name": "PythonData",
   "language": "python",
   "name": "pythondata"
  },
  "language_info": {
   "codemirror_mode": {
    "name": "ipython",
    "version": 3
   },
   "file_extension": ".py",
   "mimetype": "text/x-python",
   "name": "python",
   "nbconvert_exporter": "python",
   "pygments_lexer": "ipython3",
   "version": "3.7.10"
  }
 },
 "nbformat": 4,
 "nbformat_minor": 5
}
